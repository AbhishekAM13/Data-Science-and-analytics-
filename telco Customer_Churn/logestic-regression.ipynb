{
 "cells": [
  {
   "cell_type": "markdown",
   "id": "5b7c82a0",
   "metadata": {
    "papermill": {
     "duration": 0.008101,
     "end_time": "2024-06-30T19:33:56.141042",
     "exception": false,
     "start_time": "2024-06-30T19:33:56.132941",
     "status": "completed"
    },
    "tags": []
   },
   "source": [
    "# importing Lib and data"
   ]
  },
  {
   "cell_type": "code",
   "execution_count": 1,
   "id": "356d7c07",
   "metadata": {
    "_cell_guid": "b1076dfc-b9ad-4769-8c92-a6c4dae69d19",
    "_uuid": "8f2839f25d086af736a60e9eeb907d3b93b6e0e5",
    "execution": {
     "iopub.execute_input": "2024-06-30T19:33:56.157253Z",
     "iopub.status.busy": "2024-06-30T19:33:56.156853Z",
     "iopub.status.idle": "2024-06-30T19:34:00.215267Z",
     "shell.execute_reply": "2024-06-30T19:34:00.213850Z"
    },
    "papermill": {
     "duration": 4.070222,
     "end_time": "2024-06-30T19:34:00.218601",
     "exception": false,
     "start_time": "2024-06-30T19:33:56.148379",
     "status": "completed"
    },
    "tags": []
   },
   "outputs": [],
   "source": [
    "import numpy as np\n",
    "import pandas as pd\n",
    "import matplotlib.pyplot as plt\n",
    "import seaborn as sns\n",
    "import warnings\n",
    "import statsmodels.api as sm\n",
    "warnings.filterwarnings(\"ignore\")"
   ]
  },
  {
   "cell_type": "code",
   "execution_count": 2,
   "id": "42323333",
   "metadata": {
    "execution": {
     "iopub.execute_input": "2024-06-30T19:34:00.236239Z",
     "iopub.status.busy": "2024-06-30T19:34:00.235675Z",
     "iopub.status.idle": "2024-06-30T19:34:00.305384Z",
     "shell.execute_reply": "2024-06-30T19:34:00.304073Z"
    },
    "papermill": {
     "duration": 0.081817,
     "end_time": "2024-06-30T19:34:00.308271",
     "exception": false,
     "start_time": "2024-06-30T19:34:00.226454",
     "status": "completed"
    },
    "tags": []
   },
   "outputs": [],
   "source": [
    "df= pd.read_csv(\"/kaggle/input/telco-customer-churn/Telco-Customer-Churn.csv\")"
   ]
  },
  {
   "cell_type": "markdown",
   "id": "ddbe322d",
   "metadata": {
    "papermill": {
     "duration": 0.008242,
     "end_time": "2024-06-30T19:34:00.324121",
     "exception": false,
     "start_time": "2024-06-30T19:34:00.315879",
     "status": "completed"
    },
    "tags": []
   },
   "source": [
    "# Analysing the Data"
   ]
  },
  {
   "cell_type": "code",
   "execution_count": 3,
   "id": "3f420d2e",
   "metadata": {
    "execution": {
     "iopub.execute_input": "2024-06-30T19:34:00.342207Z",
     "iopub.status.busy": "2024-06-30T19:34:00.341082Z",
     "iopub.status.idle": "2024-06-30T19:34:00.384766Z",
     "shell.execute_reply": "2024-06-30T19:34:00.383493Z"
    },
    "papermill": {
     "duration": 0.055236,
     "end_time": "2024-06-30T19:34:00.387272",
     "exception": false,
     "start_time": "2024-06-30T19:34:00.332036",
     "status": "completed"
    },
    "tags": []
   },
   "outputs": [
    {
     "data": {
      "text/html": [
       "<div>\n",
       "<style scoped>\n",
       "    .dataframe tbody tr th:only-of-type {\n",
       "        vertical-align: middle;\n",
       "    }\n",
       "\n",
       "    .dataframe tbody tr th {\n",
       "        vertical-align: top;\n",
       "    }\n",
       "\n",
       "    .dataframe thead th {\n",
       "        text-align: right;\n",
       "    }\n",
       "</style>\n",
       "<table border=\"1\" class=\"dataframe\">\n",
       "  <thead>\n",
       "    <tr style=\"text-align: right;\">\n",
       "      <th></th>\n",
       "      <th>customerID</th>\n",
       "      <th>gender</th>\n",
       "      <th>SeniorCitizen</th>\n",
       "      <th>Partner</th>\n",
       "      <th>Dependents</th>\n",
       "      <th>tenure</th>\n",
       "      <th>PhoneService</th>\n",
       "      <th>MultipleLines</th>\n",
       "      <th>InternetService</th>\n",
       "      <th>OnlineSecurity</th>\n",
       "      <th>...</th>\n",
       "      <th>DeviceProtection</th>\n",
       "      <th>TechSupport</th>\n",
       "      <th>StreamingTV</th>\n",
       "      <th>StreamingMovies</th>\n",
       "      <th>Contract</th>\n",
       "      <th>PaperlessBilling</th>\n",
       "      <th>PaymentMethod</th>\n",
       "      <th>MonthlyCharges</th>\n",
       "      <th>TotalCharges</th>\n",
       "      <th>Churn</th>\n",
       "    </tr>\n",
       "  </thead>\n",
       "  <tbody>\n",
       "    <tr>\n",
       "      <th>0</th>\n",
       "      <td>7590-VHVEG</td>\n",
       "      <td>Female</td>\n",
       "      <td>0</td>\n",
       "      <td>Yes</td>\n",
       "      <td>No</td>\n",
       "      <td>1</td>\n",
       "      <td>No</td>\n",
       "      <td>No phone service</td>\n",
       "      <td>DSL</td>\n",
       "      <td>No</td>\n",
       "      <td>...</td>\n",
       "      <td>No</td>\n",
       "      <td>No</td>\n",
       "      <td>No</td>\n",
       "      <td>No</td>\n",
       "      <td>Month-to-month</td>\n",
       "      <td>Yes</td>\n",
       "      <td>Electronic check</td>\n",
       "      <td>29.85</td>\n",
       "      <td>29.85</td>\n",
       "      <td>No</td>\n",
       "    </tr>\n",
       "    <tr>\n",
       "      <th>1</th>\n",
       "      <td>5575-GNVDE</td>\n",
       "      <td>Male</td>\n",
       "      <td>0</td>\n",
       "      <td>No</td>\n",
       "      <td>No</td>\n",
       "      <td>34</td>\n",
       "      <td>Yes</td>\n",
       "      <td>No</td>\n",
       "      <td>DSL</td>\n",
       "      <td>Yes</td>\n",
       "      <td>...</td>\n",
       "      <td>Yes</td>\n",
       "      <td>No</td>\n",
       "      <td>No</td>\n",
       "      <td>No</td>\n",
       "      <td>One year</td>\n",
       "      <td>No</td>\n",
       "      <td>Mailed check</td>\n",
       "      <td>56.95</td>\n",
       "      <td>1889.5</td>\n",
       "      <td>No</td>\n",
       "    </tr>\n",
       "    <tr>\n",
       "      <th>2</th>\n",
       "      <td>3668-QPYBK</td>\n",
       "      <td>Male</td>\n",
       "      <td>0</td>\n",
       "      <td>No</td>\n",
       "      <td>No</td>\n",
       "      <td>2</td>\n",
       "      <td>Yes</td>\n",
       "      <td>No</td>\n",
       "      <td>DSL</td>\n",
       "      <td>Yes</td>\n",
       "      <td>...</td>\n",
       "      <td>No</td>\n",
       "      <td>No</td>\n",
       "      <td>No</td>\n",
       "      <td>No</td>\n",
       "      <td>Month-to-month</td>\n",
       "      <td>Yes</td>\n",
       "      <td>Mailed check</td>\n",
       "      <td>53.85</td>\n",
       "      <td>108.15</td>\n",
       "      <td>Yes</td>\n",
       "    </tr>\n",
       "    <tr>\n",
       "      <th>3</th>\n",
       "      <td>7795-CFOCW</td>\n",
       "      <td>Male</td>\n",
       "      <td>0</td>\n",
       "      <td>No</td>\n",
       "      <td>No</td>\n",
       "      <td>45</td>\n",
       "      <td>No</td>\n",
       "      <td>No phone service</td>\n",
       "      <td>DSL</td>\n",
       "      <td>Yes</td>\n",
       "      <td>...</td>\n",
       "      <td>Yes</td>\n",
       "      <td>Yes</td>\n",
       "      <td>No</td>\n",
       "      <td>No</td>\n",
       "      <td>One year</td>\n",
       "      <td>No</td>\n",
       "      <td>Bank transfer (automatic)</td>\n",
       "      <td>42.30</td>\n",
       "      <td>1840.75</td>\n",
       "      <td>No</td>\n",
       "    </tr>\n",
       "    <tr>\n",
       "      <th>4</th>\n",
       "      <td>9237-HQITU</td>\n",
       "      <td>Female</td>\n",
       "      <td>0</td>\n",
       "      <td>No</td>\n",
       "      <td>No</td>\n",
       "      <td>2</td>\n",
       "      <td>Yes</td>\n",
       "      <td>No</td>\n",
       "      <td>Fiber optic</td>\n",
       "      <td>No</td>\n",
       "      <td>...</td>\n",
       "      <td>No</td>\n",
       "      <td>No</td>\n",
       "      <td>No</td>\n",
       "      <td>No</td>\n",
       "      <td>Month-to-month</td>\n",
       "      <td>Yes</td>\n",
       "      <td>Electronic check</td>\n",
       "      <td>70.70</td>\n",
       "      <td>151.65</td>\n",
       "      <td>Yes</td>\n",
       "    </tr>\n",
       "  </tbody>\n",
       "</table>\n",
       "<p>5 rows × 21 columns</p>\n",
       "</div>"
      ],
      "text/plain": [
       "   customerID  gender  SeniorCitizen Partner Dependents  tenure PhoneService  \\\n",
       "0  7590-VHVEG  Female              0     Yes         No       1           No   \n",
       "1  5575-GNVDE    Male              0      No         No      34          Yes   \n",
       "2  3668-QPYBK    Male              0      No         No       2          Yes   \n",
       "3  7795-CFOCW    Male              0      No         No      45           No   \n",
       "4  9237-HQITU  Female              0      No         No       2          Yes   \n",
       "\n",
       "      MultipleLines InternetService OnlineSecurity  ... DeviceProtection  \\\n",
       "0  No phone service             DSL             No  ...               No   \n",
       "1                No             DSL            Yes  ...              Yes   \n",
       "2                No             DSL            Yes  ...               No   \n",
       "3  No phone service             DSL            Yes  ...              Yes   \n",
       "4                No     Fiber optic             No  ...               No   \n",
       "\n",
       "  TechSupport StreamingTV StreamingMovies        Contract PaperlessBilling  \\\n",
       "0          No          No              No  Month-to-month              Yes   \n",
       "1          No          No              No        One year               No   \n",
       "2          No          No              No  Month-to-month              Yes   \n",
       "3         Yes          No              No        One year               No   \n",
       "4          No          No              No  Month-to-month              Yes   \n",
       "\n",
       "               PaymentMethod MonthlyCharges  TotalCharges Churn  \n",
       "0           Electronic check          29.85         29.85    No  \n",
       "1               Mailed check          56.95        1889.5    No  \n",
       "2               Mailed check          53.85        108.15   Yes  \n",
       "3  Bank transfer (automatic)          42.30       1840.75    No  \n",
       "4           Electronic check          70.70        151.65   Yes  \n",
       "\n",
       "[5 rows x 21 columns]"
      ]
     },
     "execution_count": 3,
     "metadata": {},
     "output_type": "execute_result"
    }
   ],
   "source": [
    "df.head()"
   ]
  },
  {
   "cell_type": "code",
   "execution_count": 4,
   "id": "69eeb3f5",
   "metadata": {
    "execution": {
     "iopub.execute_input": "2024-06-30T19:34:00.405022Z",
     "iopub.status.busy": "2024-06-30T19:34:00.404593Z",
     "iopub.status.idle": "2024-06-30T19:34:00.436866Z",
     "shell.execute_reply": "2024-06-30T19:34:00.435161Z"
    },
    "papermill": {
     "duration": 0.044003,
     "end_time": "2024-06-30T19:34:00.439429",
     "exception": false,
     "start_time": "2024-06-30T19:34:00.395426",
     "status": "completed"
    },
    "tags": []
   },
   "outputs": [
    {
     "name": "stdout",
     "output_type": "stream",
     "text": [
      "<class 'pandas.core.frame.DataFrame'>\n",
      "RangeIndex: 7043 entries, 0 to 7042\n",
      "Data columns (total 21 columns):\n",
      " #   Column            Non-Null Count  Dtype  \n",
      "---  ------            --------------  -----  \n",
      " 0   customerID        7043 non-null   object \n",
      " 1   gender            7043 non-null   object \n",
      " 2   SeniorCitizen     7043 non-null   int64  \n",
      " 3   Partner           7043 non-null   object \n",
      " 4   Dependents        7043 non-null   object \n",
      " 5   tenure            7043 non-null   int64  \n",
      " 6   PhoneService      7043 non-null   object \n",
      " 7   MultipleLines     7043 non-null   object \n",
      " 8   InternetService   7043 non-null   object \n",
      " 9   OnlineSecurity    7043 non-null   object \n",
      " 10  OnlineBackup      7043 non-null   object \n",
      " 11  DeviceProtection  7043 non-null   object \n",
      " 12  TechSupport       7043 non-null   object \n",
      " 13  StreamingTV       7043 non-null   object \n",
      " 14  StreamingMovies   7043 non-null   object \n",
      " 15  Contract          7043 non-null   object \n",
      " 16  PaperlessBilling  7043 non-null   object \n",
      " 17  PaymentMethod     7043 non-null   object \n",
      " 18  MonthlyCharges    7043 non-null   float64\n",
      " 19  TotalCharges      7043 non-null   object \n",
      " 20  Churn             7043 non-null   object \n",
      "dtypes: float64(1), int64(2), object(18)\n",
      "memory usage: 1.1+ MB\n"
     ]
    }
   ],
   "source": [
    "df.info()"
   ]
  },
  {
   "cell_type": "code",
   "execution_count": 5,
   "id": "151550d6",
   "metadata": {
    "execution": {
     "iopub.execute_input": "2024-06-30T19:34:00.457537Z",
     "iopub.status.busy": "2024-06-30T19:34:00.457073Z",
     "iopub.status.idle": "2024-06-30T19:34:00.480768Z",
     "shell.execute_reply": "2024-06-30T19:34:00.479522Z"
    },
    "papermill": {
     "duration": 0.035432,
     "end_time": "2024-06-30T19:34:00.483198",
     "exception": false,
     "start_time": "2024-06-30T19:34:00.447766",
     "status": "completed"
    },
    "tags": []
   },
   "outputs": [
    {
     "data": {
      "text/html": [
       "<div>\n",
       "<style scoped>\n",
       "    .dataframe tbody tr th:only-of-type {\n",
       "        vertical-align: middle;\n",
       "    }\n",
       "\n",
       "    .dataframe tbody tr th {\n",
       "        vertical-align: top;\n",
       "    }\n",
       "\n",
       "    .dataframe thead th {\n",
       "        text-align: right;\n",
       "    }\n",
       "</style>\n",
       "<table border=\"1\" class=\"dataframe\">\n",
       "  <thead>\n",
       "    <tr style=\"text-align: right;\">\n",
       "      <th></th>\n",
       "      <th>SeniorCitizen</th>\n",
       "      <th>tenure</th>\n",
       "      <th>MonthlyCharges</th>\n",
       "    </tr>\n",
       "  </thead>\n",
       "  <tbody>\n",
       "    <tr>\n",
       "      <th>count</th>\n",
       "      <td>7043.000000</td>\n",
       "      <td>7043.000000</td>\n",
       "      <td>7043.000000</td>\n",
       "    </tr>\n",
       "    <tr>\n",
       "      <th>mean</th>\n",
       "      <td>0.162147</td>\n",
       "      <td>32.371149</td>\n",
       "      <td>64.761692</td>\n",
       "    </tr>\n",
       "    <tr>\n",
       "      <th>std</th>\n",
       "      <td>0.368612</td>\n",
       "      <td>24.559481</td>\n",
       "      <td>30.090047</td>\n",
       "    </tr>\n",
       "    <tr>\n",
       "      <th>min</th>\n",
       "      <td>0.000000</td>\n",
       "      <td>0.000000</td>\n",
       "      <td>18.250000</td>\n",
       "    </tr>\n",
       "    <tr>\n",
       "      <th>25%</th>\n",
       "      <td>0.000000</td>\n",
       "      <td>9.000000</td>\n",
       "      <td>35.500000</td>\n",
       "    </tr>\n",
       "    <tr>\n",
       "      <th>50%</th>\n",
       "      <td>0.000000</td>\n",
       "      <td>29.000000</td>\n",
       "      <td>70.350000</td>\n",
       "    </tr>\n",
       "    <tr>\n",
       "      <th>75%</th>\n",
       "      <td>0.000000</td>\n",
       "      <td>55.000000</td>\n",
       "      <td>89.850000</td>\n",
       "    </tr>\n",
       "    <tr>\n",
       "      <th>max</th>\n",
       "      <td>1.000000</td>\n",
       "      <td>72.000000</td>\n",
       "      <td>118.750000</td>\n",
       "    </tr>\n",
       "  </tbody>\n",
       "</table>\n",
       "</div>"
      ],
      "text/plain": [
       "       SeniorCitizen       tenure  MonthlyCharges\n",
       "count    7043.000000  7043.000000     7043.000000\n",
       "mean        0.162147    32.371149       64.761692\n",
       "std         0.368612    24.559481       30.090047\n",
       "min         0.000000     0.000000       18.250000\n",
       "25%         0.000000     9.000000       35.500000\n",
       "50%         0.000000    29.000000       70.350000\n",
       "75%         0.000000    55.000000       89.850000\n",
       "max         1.000000    72.000000      118.750000"
      ]
     },
     "execution_count": 5,
     "metadata": {},
     "output_type": "execute_result"
    }
   ],
   "source": [
    "df.describe()"
   ]
  },
  {
   "cell_type": "code",
   "execution_count": 6,
   "id": "8d0a7aad",
   "metadata": {
    "execution": {
     "iopub.execute_input": "2024-06-30T19:34:00.501868Z",
     "iopub.status.busy": "2024-06-30T19:34:00.501461Z",
     "iopub.status.idle": "2024-06-30T19:34:00.518345Z",
     "shell.execute_reply": "2024-06-30T19:34:00.517180Z"
    },
    "papermill": {
     "duration": 0.029427,
     "end_time": "2024-06-30T19:34:00.521012",
     "exception": false,
     "start_time": "2024-06-30T19:34:00.491585",
     "status": "completed"
    },
    "tags": []
   },
   "outputs": [],
   "source": [
    "df=df.query(\"Contract == 'Month-to-month'\")"
   ]
  },
  {
   "cell_type": "markdown",
   "id": "13e153b5",
   "metadata": {
    "papermill": {
     "duration": 0.007746,
     "end_time": "2024-06-30T19:34:00.537134",
     "exception": false,
     "start_time": "2024-06-30T19:34:00.529388",
     "status": "completed"
    },
    "tags": []
   },
   "source": [
    "# Basic EDA"
   ]
  },
  {
   "cell_type": "code",
   "execution_count": 7,
   "id": "61242f7d",
   "metadata": {
    "execution": {
     "iopub.execute_input": "2024-06-30T19:34:00.554931Z",
     "iopub.status.busy": "2024-06-30T19:34:00.554488Z",
     "iopub.status.idle": "2024-06-30T19:34:00.815746Z",
     "shell.execute_reply": "2024-06-30T19:34:00.814423Z"
    },
    "papermill": {
     "duration": 0.273216,
     "end_time": "2024-06-30T19:34:00.818360",
     "exception": false,
     "start_time": "2024-06-30T19:34:00.545144",
     "status": "completed"
    },
    "tags": []
   },
   "outputs": [
    {
     "data": {
      "text/plain": [
       "<Axes: xlabel='Churn'>"
      ]
     },
     "execution_count": 7,
     "metadata": {},
     "output_type": "execute_result"
    },
    {
     "data": {
      "image/png": "[encoded data removed]",
      "text/plain": [
       "<Figure size 640x480 with 1 Axes>"
      ]
     },
     "metadata": {},
     "output_type": "display_data"
    }
   ],
   "source": [
    "df[\"Churn\"].value_counts().plot(kind=\"bar\")"
   ]
  },
  {
   "cell_type": "code",
   "execution_count": 8,
   "id": "36f9d86b",
   "metadata": {
    "execution": {
     "iopub.execute_input": "2024-06-30T19:34:00.837553Z",
     "iopub.status.busy": "2024-06-30T19:34:00.837138Z",
     "iopub.status.idle": "2024-06-30T19:34:01.374710Z",
     "shell.execute_reply": "2024-06-30T19:34:01.372998Z"
    },
    "papermill": {
     "duration": 0.550379,
     "end_time": "2024-06-30T19:34:01.377212",
     "exception": false,
     "start_time": "2024-06-30T19:34:00.826833",
     "status": "completed"
    },
    "tags": []
   },
   "outputs": [
    {
     "data": {
      "text/plain": [
       "Text(0.5, 1.0, 'Inspect MonthlyCharges')"
      ]
     },
     "execution_count": 8,
     "metadata": {},
     "output_type": "execute_result"
    },
    {
     "data": {
      "image/png": "[encoded data removed]",
      "text/plain": [
       "<Figure size 700x500 with 1 Axes>"
      ]
     },
     "metadata": {},
     "output_type": "display_data"
    }
   ],
   "source": [
    "plt.figure(figsize =(7,5))\n",
    "plt.hist(df.query(\"Churn == 'Yes'\")['MonthlyCharges'],50, alpha= 0.8,label='Churn = Yes')\n",
    "plt.hist(df.query(\"Churn == 'No'\")['MonthlyCharges'],50, alpha= 0.3,label='Churn = No',color='red')\n",
    "plt.legend()\n",
    "plt.title(\"Inspect MonthlyCharges\")"
   ]
  },
  {
   "cell_type": "code",
   "execution_count": 9,
   "id": "8773b765",
   "metadata": {
    "execution": {
     "iopub.execute_input": "2024-06-30T19:34:01.398139Z",
     "iopub.status.busy": "2024-06-30T19:34:01.397740Z",
     "iopub.status.idle": "2024-06-30T19:34:01.937116Z",
     "shell.execute_reply": "2024-06-30T19:34:01.935729Z"
    },
    "papermill": {
     "duration": 0.553809,
     "end_time": "2024-06-30T19:34:01.940088",
     "exception": false,
     "start_time": "2024-06-30T19:34:01.386279",
     "status": "completed"
    },
    "tags": []
   },
   "outputs": [
    {
     "data": {
      "text/plain": [
       "Text(0.5, 1.0, 'Inspect tenure')"
      ]
     },
     "execution_count": 9,
     "metadata": {},
     "output_type": "execute_result"
    },
    {
     "data": {
      "image/png": "[encoded data removed]",
      "text/plain": [
       "<Figure size 700x500 with 1 Axes>"
      ]
     },
     "metadata": {},
     "output_type": "display_data"
    }
   ],
   "source": [
    "plt.figure(figsize =(7,5))\n",
    "plt.hist(df.query(\"Churn == 'Yes'\")['tenure'],50, alpha= 0.8,label='Churn = Yes')\n",
    "plt.hist(df.query(\"Churn == 'No'\")['tenure'],50, alpha= 0.3,label='Churn = No',color='red')\n",
    "plt.legend()\n",
    "plt.title(\"Inspect tenure\")"
   ]
  },
  {
   "cell_type": "code",
   "execution_count": 10,
   "id": "11905a16",
   "metadata": {
    "execution": {
     "iopub.execute_input": "2024-06-30T19:34:01.961892Z",
     "iopub.status.busy": "2024-06-30T19:34:01.961026Z",
     "iopub.status.idle": "2024-06-30T19:34:02.273085Z",
     "shell.execute_reply": "2024-06-30T19:34:02.271591Z"
    },
    "papermill": {
     "duration": 0.326444,
     "end_time": "2024-06-30T19:34:02.275942",
     "exception": false,
     "start_time": "2024-06-30T19:34:01.949498",
     "status": "completed"
    },
    "tags": []
   },
   "outputs": [
    {
     "data": {
      "text/plain": [
       "Text(0.5, 1.0, 'Inspect Partner')"
      ]
     },
     "execution_count": 10,
     "metadata": {},
     "output_type": "execute_result"
    },
    {
     "data": {
      "image/png": "[encoded data removed]",
      "text/plain": [
       "<Figure size 640x480 with 1 Axes>"
      ]
     },
     "metadata": {},
     "output_type": "display_data"
    }
   ],
   "source": [
    "pd.crosstab(df['Partner'], df['Churn']).plot(kind=\"bar\")\n",
    "plt.title(\"Inspect Partner\")"
   ]
  },
  {
   "cell_type": "code",
   "execution_count": 11,
   "id": "ef91e24a",
   "metadata": {
    "execution": {
     "iopub.execute_input": "2024-06-30T19:34:02.297677Z",
     "iopub.status.busy": "2024-06-30T19:34:02.297250Z",
     "iopub.status.idle": "2024-06-30T19:34:02.566946Z",
     "shell.execute_reply": "2024-06-30T19:34:02.565665Z"
    },
    "papermill": {
     "duration": 0.283786,
     "end_time": "2024-06-30T19:34:02.569746",
     "exception": false,
     "start_time": "2024-06-30T19:34:02.285960",
     "status": "completed"
    },
    "tags": []
   },
   "outputs": [
    {
     "data": {
      "text/plain": [
       "<Axes: xlabel='Partner'>"
      ]
     },
     "execution_count": 11,
     "metadata": {},
     "output_type": "execute_result"
    },
    {
     "data": {
      "image/png": "[encoded data removed]",
      "text/plain": [
       "<Figure size 640x480 with 1 Axes>"
      ]
     },
     "metadata": {},
     "output_type": "display_data"
    }
   ],
   "source": [
    "pd.crosstab(df['Partner'], df['Churn'],normalize='index').plot(kind=\"bar\", stacked = True)"
   ]
  },
  {
   "cell_type": "markdown",
   "id": "116a5259",
   "metadata": {
    "papermill": {
     "duration": 0.009804,
     "end_time": "2024-06-30T19:34:02.589699",
     "exception": false,
     "start_time": "2024-06-30T19:34:02.579895",
     "status": "completed"
    },
    "tags": []
   },
   "source": [
    "# Modeling"
   ]
  },
  {
   "cell_type": "code",
   "execution_count": 12,
   "id": "8b084e7d",
   "metadata": {
    "execution": {
     "iopub.execute_input": "2024-06-30T19:34:02.611660Z",
     "iopub.status.busy": "2024-06-30T19:34:02.611268Z",
     "iopub.status.idle": "2024-06-30T19:34:02.617657Z",
     "shell.execute_reply": "2024-06-30T19:34:02.616403Z"
    },
    "papermill": {
     "duration": 0.020012,
     "end_time": "2024-06-30T19:34:02.620044",
     "exception": false,
     "start_time": "2024-06-30T19:34:02.600032",
     "status": "completed"
    },
    "tags": []
   },
   "outputs": [],
   "source": [
    "X = df.loc[:,['MonthlyCharges', 'tenure', 'Partner', 'SeniorCitizen']]"
   ]
  },
  {
   "cell_type": "code",
   "execution_count": 13,
   "id": "2b191a78",
   "metadata": {
    "execution": {
     "iopub.execute_input": "2024-06-30T19:34:02.643434Z",
     "iopub.status.busy": "2024-06-30T19:34:02.643007Z",
     "iopub.status.idle": "2024-06-30T19:34:02.652105Z",
     "shell.execute_reply": "2024-06-30T19:34:02.650902Z"
    },
    "papermill": {
     "duration": 0.024138,
     "end_time": "2024-06-30T19:34:02.654643",
     "exception": false,
     "start_time": "2024-06-30T19:34:02.630505",
     "status": "completed"
    },
    "tags": []
   },
   "outputs": [],
   "source": [
    "X = sm.add_constant(X);"
   ]
  },
  {
   "cell_type": "code",
   "execution_count": 14,
   "id": "fac73fe0",
   "metadata": {
    "execution": {
     "iopub.execute_input": "2024-06-30T19:34:02.677011Z",
     "iopub.status.busy": "2024-06-30T19:34:02.676118Z",
     "iopub.status.idle": "2024-06-30T19:34:02.686003Z",
     "shell.execute_reply": "2024-06-30T19:34:02.684806Z"
    },
    "papermill": {
     "duration": 0.023449,
     "end_time": "2024-06-30T19:34:02.688256",
     "exception": false,
     "start_time": "2024-06-30T19:34:02.664807",
     "status": "completed"
    },
    "tags": []
   },
   "outputs": [
    {
     "name": "stdout",
     "output_type": "stream",
     "text": [
      "      const  MonthlyCharges  tenure Partner  SeniorCitizen\n",
      "0       1.0           29.85       1     Yes              0\n",
      "2       1.0           53.85       2      No              0\n",
      "4       1.0           70.70       2      No              0\n",
      "5       1.0           99.65       8      No              0\n",
      "6       1.0           89.10      22      No              0\n",
      "...     ...             ...     ...     ...            ...\n",
      "7033    1.0           69.50      38      No              0\n",
      "7034    1.0          102.95      67      No              0\n",
      "7035    1.0           78.70      19      No              0\n",
      "7040    1.0           29.60      11     Yes              0\n",
      "7041    1.0           74.40       4     Yes              1\n",
      "\n",
      "[3875 rows x 5 columns]\n"
     ]
    }
   ],
   "source": [
    "print(X)"
   ]
  },
  {
   "cell_type": "code",
   "execution_count": 15,
   "id": "1b43f78b",
   "metadata": {
    "execution": {
     "iopub.execute_input": "2024-06-30T19:34:02.710368Z",
     "iopub.status.busy": "2024-06-30T19:34:02.709937Z",
     "iopub.status.idle": "2024-06-30T19:34:02.716724Z",
     "shell.execute_reply": "2024-06-30T19:34:02.715426Z"
    },
    "papermill": {
     "duration": 0.020563,
     "end_time": "2024-06-30T19:34:02.719209",
     "exception": false,
     "start_time": "2024-06-30T19:34:02.698646",
     "status": "completed"
    },
    "tags": []
   },
   "outputs": [],
   "source": [
    "X['Partner']=X[\"Partner\"].map(dict(Yes=1,No=0))"
   ]
  },
  {
   "cell_type": "code",
   "execution_count": 16,
   "id": "0a557a49",
   "metadata": {
    "execution": {
     "iopub.execute_input": "2024-06-30T19:34:02.742002Z",
     "iopub.status.busy": "2024-06-30T19:34:02.741624Z",
     "iopub.status.idle": "2024-06-30T19:34:02.751258Z",
     "shell.execute_reply": "2024-06-30T19:34:02.749960Z"
    },
    "papermill": {
     "duration": 0.024829,
     "end_time": "2024-06-30T19:34:02.754425",
     "exception": false,
     "start_time": "2024-06-30T19:34:02.729596",
     "status": "completed"
    },
    "tags": []
   },
   "outputs": [
    {
     "name": "stdout",
     "output_type": "stream",
     "text": [
      "      const  MonthlyCharges  tenure  Partner  SeniorCitizen\n",
      "0       1.0           29.85       1        1              0\n",
      "2       1.0           53.85       2        0              0\n",
      "4       1.0           70.70       2        0              0\n",
      "5       1.0           99.65       8        0              0\n",
      "6       1.0           89.10      22        0              0\n",
      "...     ...             ...     ...      ...            ...\n",
      "7033    1.0           69.50      38        0              0\n",
      "7034    1.0          102.95      67        0              0\n",
      "7035    1.0           78.70      19        0              0\n",
      "7040    1.0           29.60      11        1              0\n",
      "7041    1.0           74.40       4        1              1\n",
      "\n",
      "[3875 rows x 5 columns]\n"
     ]
    }
   ],
   "source": [
    "print(X)"
   ]
  },
  {
   "cell_type": "code",
   "execution_count": 17,
   "id": "e3c92989",
   "metadata": {
    "execution": {
     "iopub.execute_input": "2024-06-30T19:34:02.776377Z",
     "iopub.status.busy": "2024-06-30T19:34:02.775966Z",
     "iopub.status.idle": "2024-06-30T19:34:02.780850Z",
     "shell.execute_reply": "2024-06-30T19:34:02.779707Z"
    },
    "papermill": {
     "duration": 0.018387,
     "end_time": "2024-06-30T19:34:02.783048",
     "exception": false,
     "start_time": "2024-06-30T19:34:02.764661",
     "status": "completed"
    },
    "tags": []
   },
   "outputs": [],
   "source": [
    "y= df[\"Churn\"]"
   ]
  },
  {
   "cell_type": "code",
   "execution_count": 18,
   "id": "9ea27fce",
   "metadata": {
    "execution": {
     "iopub.execute_input": "2024-06-30T19:34:02.805455Z",
     "iopub.status.busy": "2024-06-30T19:34:02.804718Z",
     "iopub.status.idle": "2024-06-30T19:34:02.813507Z",
     "shell.execute_reply": "2024-06-30T19:34:02.812450Z"
    },
    "papermill": {
     "duration": 0.022464,
     "end_time": "2024-06-30T19:34:02.815842",
     "exception": false,
     "start_time": "2024-06-30T19:34:02.793378",
     "status": "completed"
    },
    "tags": []
   },
   "outputs": [
    {
     "data": {
      "text/plain": [
       "Churn\n",
       "No     2220\n",
       "Yes    1655\n",
       "Name: count, dtype: int64"
      ]
     },
     "execution_count": 18,
     "metadata": {},
     "output_type": "execute_result"
    }
   ],
   "source": [
    "y.value_counts()"
   ]
  },
  {
   "cell_type": "code",
   "execution_count": 19,
   "id": "55fb0a93",
   "metadata": {
    "execution": {
     "iopub.execute_input": "2024-06-30T19:34:02.838112Z",
     "iopub.status.busy": "2024-06-30T19:34:02.837717Z",
     "iopub.status.idle": "2024-06-30T19:34:02.844360Z",
     "shell.execute_reply": "2024-06-30T19:34:02.843270Z"
    },
    "papermill": {
     "duration": 0.020463,
     "end_time": "2024-06-30T19:34:02.846682",
     "exception": false,
     "start_time": "2024-06-30T19:34:02.826219",
     "status": "completed"
    },
    "tags": []
   },
   "outputs": [],
   "source": [
    "y = y.map(dict(Yes=1, No=0))"
   ]
  },
  {
   "cell_type": "code",
   "execution_count": 20,
   "id": "1763825c",
   "metadata": {
    "execution": {
     "iopub.execute_input": "2024-06-30T19:34:02.869759Z",
     "iopub.status.busy": "2024-06-30T19:34:02.869059Z",
     "iopub.status.idle": "2024-06-30T19:34:02.893135Z",
     "shell.execute_reply": "2024-06-30T19:34:02.891805Z"
    },
    "papermill": {
     "duration": 0.0387,
     "end_time": "2024-06-30T19:34:02.896305",
     "exception": false,
     "start_time": "2024-06-30T19:34:02.857605",
     "status": "completed"
    },
    "tags": []
   },
   "outputs": [
    {
     "name": "stdout",
     "output_type": "stream",
     "text": [
      "Optimization terminated successfully.\n",
      "         Current function value: 0.606712\n",
      "         Iterations 5\n"
     ]
    }
   ],
   "source": [
    "model = sm.Logit(y, X)\n",
    "res = model.fit()"
   ]
  },
  {
   "cell_type": "code",
   "execution_count": 21,
   "id": "432ad915",
   "metadata": {
    "execution": {
     "iopub.execute_input": "2024-06-30T19:34:02.934192Z",
     "iopub.status.busy": "2024-06-30T19:34:02.933619Z",
     "iopub.status.idle": "2024-06-30T19:34:03.005430Z",
     "shell.execute_reply": "2024-06-30T19:34:02.995206Z"
    },
    "papermill": {
     "duration": 0.095546,
     "end_time": "2024-06-30T19:34:03.010056",
     "exception": false,
     "start_time": "2024-06-30T19:34:02.914510",
     "status": "completed"
    },
    "tags": []
   },
   "outputs": [
    {
     "name": "stdout",
     "output_type": "stream",
     "text": [
      "                           Logit Regression Results                           \n",
      "==============================================================================\n",
      "Dep. Variable:                  Churn   No. Observations:                 3875\n",
      "Model:                          Logit   Df Residuals:                     3870\n",
      "Method:                           MLE   Df Model:                            4\n",
      "Date:                Sun, 30 Jun 2024   Pseudo R-squ.:                  0.1110\n",
      "Time:                        19:34:02   Log-Likelihood:                -2351.0\n",
      "converged:                       True   LL-Null:                       -2644.6\n",
      "Covariance Type:            nonrobust   LLR p-value:                9.152e-126\n",
      "==================================================================================\n",
      "                     coef    std err          z      P>|z|      [0.025      0.975]\n",
      "----------------------------------------------------------------------------------\n",
      "const             -1.4356      0.100    -14.359      0.000      -1.632      -1.240\n",
      "MonthlyCharges     0.0265      0.002     17.281      0.000       0.023       0.029\n",
      "tenure            -0.0431      0.002    -17.387      0.000      -0.048      -0.038\n",
      "Partner           -0.0407      0.077     -0.527      0.598      -0.192       0.111\n",
      "SeniorCitizen      0.5583      0.089      6.297      0.000       0.385       0.732\n",
      "==================================================================================\n"
     ]
    }
   ],
   "source": [
    "print(res.summary())\n"
   ]
  },
  {
   "cell_type": "code",
   "execution_count": 22,
   "id": "8507f953",
   "metadata": {
    "execution": {
     "iopub.execute_input": "2024-06-30T19:34:03.086532Z",
     "iopub.status.busy": "2024-06-30T19:34:03.085937Z",
     "iopub.status.idle": "2024-06-30T19:34:03.115643Z",
     "shell.execute_reply": "2024-06-30T19:34:03.114144Z"
    },
    "papermill": {
     "duration": 0.076212,
     "end_time": "2024-06-30T19:34:03.120033",
     "exception": false,
     "start_time": "2024-06-30T19:34:03.043821",
     "status": "completed"
    },
    "tags": []
   },
   "outputs": [
    {
     "data": {
      "text/plain": [
       "0       0.325235\n",
       "2       0.475677\n",
       "4       0.586221\n",
       "5       0.701700\n",
       "6       0.493134\n",
       "          ...   \n",
       "7033    0.225133\n",
       "7034    0.167721\n",
       "7035    0.456809\n",
       "7040    0.237268\n",
       "7041    0.706326\n",
       "Length: 3875, dtype: float64"
      ]
     },
     "execution_count": 22,
     "metadata": {},
     "output_type": "execute_result"
    }
   ],
   "source": [
    "res.predict(X)"
   ]
  },
  {
   "cell_type": "code",
   "execution_count": 23,
   "id": "d638d299",
   "metadata": {
    "execution": {
     "iopub.execute_input": "2024-06-30T19:34:03.204253Z",
     "iopub.status.busy": "2024-06-30T19:34:03.203629Z",
     "iopub.status.idle": "2024-06-30T19:34:03.214429Z",
     "shell.execute_reply": "2024-06-30T19:34:03.213054Z"
    },
    "papermill": {
     "duration": 0.046321,
     "end_time": "2024-06-30T19:34:03.217895",
     "exception": false,
     "start_time": "2024-06-30T19:34:03.171574",
     "status": "completed"
    },
    "tags": []
   },
   "outputs": [],
   "source": [
    "y_hat = (res.predict(X) >= 0.5).astype(int)"
   ]
  },
  {
   "cell_type": "code",
   "execution_count": 24,
   "id": "fd693580",
   "metadata": {
    "execution": {
     "iopub.execute_input": "2024-06-30T19:34:03.257056Z",
     "iopub.status.busy": "2024-06-30T19:34:03.255856Z",
     "iopub.status.idle": "2024-06-30T19:34:03.274133Z",
     "shell.execute_reply": "2024-06-30T19:34:03.272492Z"
    },
    "papermill": {
     "duration": 0.04308,
     "end_time": "2024-06-30T19:34:03.278862",
     "exception": false,
     "start_time": "2024-06-30T19:34:03.235782",
     "status": "completed"
    },
    "tags": []
   },
   "outputs": [
    {
     "data": {
      "text/plain": [
       "0       0\n",
       "2       0\n",
       "4       1\n",
       "5       1\n",
       "6       0\n",
       "       ..\n",
       "7033    0\n",
       "7034    0\n",
       "7035    0\n",
       "7040    0\n",
       "7041    1\n",
       "Length: 3875, dtype: int64"
      ]
     },
     "execution_count": 24,
     "metadata": {},
     "output_type": "execute_result"
    }
   ],
   "source": [
    "y_hat"
   ]
  },
  {
   "cell_type": "code",
   "execution_count": 25,
   "id": "1c6ce11e",
   "metadata": {
    "execution": {
     "iopub.execute_input": "2024-06-30T19:34:03.318049Z",
     "iopub.status.busy": "2024-06-30T19:34:03.317283Z",
     "iopub.status.idle": "2024-06-30T19:34:03.331628Z",
     "shell.execute_reply": "2024-06-30T19:34:03.330176Z"
    },
    "papermill": {
     "duration": 0.039616,
     "end_time": "2024-06-30T19:34:03.336963",
     "exception": false,
     "start_time": "2024-06-30T19:34:03.297347",
     "status": "completed"
    },
    "tags": []
   },
   "outputs": [
    {
     "data": {
      "text/plain": [
       "array([[1690.,  530.],\n",
       "       [ 734.,  921.]])"
      ]
     },
     "execution_count": 25,
     "metadata": {},
     "output_type": "execute_result"
    }
   ],
   "source": [
    "confusion_matrix = res.pred_table(threshold = 0.5)\n",
    "confusion_matrix"
   ]
  },
  {
   "cell_type": "code",
   "execution_count": 26,
   "id": "63dea6fb",
   "metadata": {
    "execution": {
     "iopub.execute_input": "2024-06-30T19:34:03.376898Z",
     "iopub.status.busy": "2024-06-30T19:34:03.376177Z",
     "iopub.status.idle": "2024-06-30T19:34:03.383713Z",
     "shell.execute_reply": "2024-06-30T19:34:03.382502Z"
    },
    "papermill": {
     "duration": 0.033433,
     "end_time": "2024-06-30T19:34:03.388998",
     "exception": false,
     "start_time": "2024-06-30T19:34:03.355565",
     "status": "completed"
    },
    "tags": []
   },
   "outputs": [
    {
     "name": "stdout",
     "output_type": "stream",
     "text": [
      "0.6738064516129032\n"
     ]
    }
   ],
   "source": [
    "accuracy = (confusion_matrix[0,0] + confusion_matrix[1,1]) / len(y_hat)\n",
    "print(accuracy)"
   ]
  },
  {
   "cell_type": "code",
   "execution_count": 27,
   "id": "882b2015",
   "metadata": {
    "execution": {
     "iopub.execute_input": "2024-06-30T19:34:03.443847Z",
     "iopub.status.busy": "2024-06-30T19:34:03.443439Z",
     "iopub.status.idle": "2024-06-30T19:34:03.509816Z",
     "shell.execute_reply": "2024-06-30T19:34:03.508689Z"
    },
    "papermill": {
     "duration": 0.096742,
     "end_time": "2024-06-30T19:34:03.513686",
     "exception": false,
     "start_time": "2024-06-30T19:34:03.416944",
     "status": "completed"
    },
    "tags": []
   },
   "outputs": [
    {
     "name": "stdout",
     "output_type": "stream",
     "text": [
      "Optimization terminated successfully.\n",
      "         Current function value: 0.606748\n",
      "         Iterations 5\n",
      "                           Logit Regression Results                           \n",
      "==============================================================================\n",
      "Dep. Variable:                  Churn   No. Observations:                 3875\n",
      "Model:                          Logit   Df Residuals:                     3871\n",
      "Method:                           MLE   Df Model:                            3\n",
      "Date:                Sun, 30 Jun 2024   Pseudo R-squ.:                  0.1110\n",
      "Time:                        19:34:03   Log-Likelihood:                -2351.1\n",
      "converged:                       True   LL-Null:                       -2644.6\n",
      "Covariance Type:            nonrobust   LLR p-value:                6.911e-127\n",
      "==================================================================================\n",
      "                     coef    std err          z      P>|z|      [0.025      0.975]\n",
      "----------------------------------------------------------------------------------\n",
      "const             -1.4423      0.099    -14.539      0.000      -1.637      -1.248\n",
      "MonthlyCharges     0.0264      0.002     17.276      0.000       0.023       0.029\n",
      "tenure            -0.0434      0.002    -18.039      0.000      -0.048      -0.039\n",
      "SeniorCitizen      0.5570      0.089      6.284      0.000       0.383       0.731\n",
      "==================================================================================\n",
      "[[1688.  532.]\n",
      " [ 735.  920.]]\n",
      "0.6730322580645162\n"
     ]
    }
   ],
   "source": [
    "X = df.loc[:,['MonthlyCharges','tenure','SeniorCitizen']]\n",
    "X = sm.add_constant(X)\n",
    "\n",
    "model = sm.Logit(y,X)\n",
    "res = model.fit()\n",
    "print(res.summary())\n",
    "confusion_matrix = res.pred_table(threshold = 0.5)\n",
    "print(confusion_matrix)\n",
    "accuracy = (confusion_matrix[0,0] + confusion_matrix[1,1]) / len(y_hat)\n",
    "print(accuracy)"
   ]
  },
  {
   "cell_type": "markdown",
   "id": "a7d4baaa",
   "metadata": {
    "papermill": {
     "duration": 0.019004,
     "end_time": "2024-06-30T19:34:03.560227",
     "exception": false,
     "start_time": "2024-06-30T19:34:03.541223",
     "status": "completed"
    },
    "tags": []
   },
   "source": [
    "# still Underfitting :("
   ]
  },
  {
   "cell_type": "code",
   "execution_count": null,
   "id": "e9663163",
   "metadata": {
    "papermill": {
     "duration": 0.01842,
     "end_time": "2024-06-30T19:34:03.597452",
     "exception": false,
     "start_time": "2024-06-30T19:34:03.579032",
     "status": "completed"
    },
    "tags": []
   },
   "outputs": [],
   "source": []
  }
 ],
 "metadata": {
  "kaggle": {
   "accelerator": "none",
   "dataSources": [
    {
     "datasetId": 5308135,
     "sourceId": 8823157,
     "sourceType": "datasetVersion"
    }
   ],
   "dockerImageVersionId": 30732,
   "isGpuEnabled": false,
   "isInternetEnabled": true,
   "language": "python",
   "sourceType": "notebook"
  },
  "kernelspec": {
   "display_name": "Python 3",
   "language": "python",
   "name": "python3"
  },
  "language_info": {
   "codemirror_mode": {
    "name": "ipython",
    "version": 3
   },
   "file_extension": ".py",
   "mimetype": "text/x-python",
   "name": "python",
   "nbconvert_exporter": "python",
   "pygments_lexer": "ipython3",
   "version": "3.10.13"
  },
  "papermill": {
   "default_parameters": {},
   "duration": 10.998124,
   "end_time": "2024-06-30T19:34:04.341308",
   "environment_variables": {},
   "exception": null,
   "input_path": "__notebook__.ipynb",
   "output_path": "__notebook__.ipynb",
   "parameters": {},
   "start_time": "2024-06-30T19:33:53.343184",
   "version": "2.5.0"
  }
 },
 "nbformat": 4,
 "nbformat_minor": 5
}
